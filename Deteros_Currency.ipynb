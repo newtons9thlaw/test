{
 "cells": [
  {
   "cell_type": "code",
   "execution_count": 2,
   "metadata": {},
   "outputs": [],
   "source": [
    "def griffon_change(griffon):\n",
    "    griffon = float(griffon)\n",
    "    spear = griffon/6\n",
    "    sovereign = griffon/24\n",
    "    crown = 12 * griffon\n",
    "    flash = 1.5 * crown\n",
    "    len_ = 8 * crown\n",
    "    thrice_len = 3 * len_\n",
    "    half_len = .5 * len_\n",
    "    quarter_len = .25 *len_\n",
    "    \n",
    "    spear_str = str(spear)\n",
    "    sovereign_str = str(sovereign)\n",
    "    crown_str = str(crown)\n",
    "    flash_str = str(flash)\n",
    "    len_str = str(len_)\n",
    "    thrice_len_str = str(thrice_len)\n",
    "    half_len_str = str(half_len)\n",
    "    quarter_len_str = str(quarter_len)\n",
    "   \n",
    "    \n",
    "    print(\"this is equal to\"+\" \"+ spear_str +\" spears\")\n",
    "    print(\"this is equal to\"+\" \"+ sovereign_str + \" sovereigns\")\n",
    "    print(\"this is equal to\"+\" \"+ crown_str +  ' crowns')\n",
    "    print(\"this is equal to\"+\" \"+ flash_str +' flashes')\n",
    "    print(\"this is equal to\"+\" \"+ len_str + \" lens\")\n",
    "    print(\"this is equal to\" +\" \"+ thrice_len_str + \" thrice lens\")\n",
    "    print(\"this is equal to\" +\" \"+ half_len_str + \" half-lens\")\n",
    "    print(\"this is equal to\" +\" \"+ quarter_len_str +  \" quarter-lens\")\n",
    "    "
   ]
  },
  {
   "cell_type": "code",
   "execution_count": 16,
   "metadata": {},
   "outputs": [
    {
     "name": "stdout",
     "output_type": "stream",
     "text": [
      "this is equal to 12.0 spears\n",
      "this is equal to 3.0 sovereigns\n",
      "this is equal to 864.0 crowns\n",
      "this is equal to 1296.0 flashes\n",
      "this is equal to 6912.0 lens\n",
      "this is equal to 20736.0 thrice lens\n",
      "this is equal to 3456.0 half-lens\n",
      "this is equal to 1728.0 quarter-lens\n"
     ]
    }
   ],
   "source": [
    "griffon_change(72)"
   ]
  },
  {
   "cell_type": "code",
   "execution_count": 33,
   "metadata": {},
   "outputs": [],
   "source": [
    "def sovereign_change(sovereign):\n",
    "    sovereign = float(sovereign)\n",
    "    \n",
    "    griffon = 24 * sovereign\n",
    "    spear = griffon/6\n",
    "    sovereign = griffon/24\n",
    "    crown = 12 * griffon\n",
    "    flash = 1.5 * crown\n",
    "    len_ = 8 * crown\n",
    "    thrice_len = 3 * len_\n",
    "    half_len = .5 * len_\n",
    "    quarter_len = .25 *len_\n",
    "    \n",
    "    griffon_str = str(griffon)\n",
    "    spear_str = str(spear)\n",
    "    sovereign_str = str(sovereign)\n",
    "    crown_str = str(crown)\n",
    "    flash_str = str(flash)\n",
    "    len_str = str(len_)\n",
    "    thrice_len_str = str(thrice_len)\n",
    "    half_len_str = str(half_len)\n",
    "    quarter_len_str = str(quarter_len)\n",
    "   \n",
    "    print(\"this is equal to \"+ sovereign_str + \" sovereigns\")\n",
    "    print(\"this is equal to\"+\" \"+ spear_str +\" spears\")\n",
    "    print(\"this is equal to\"+\" \"+ griffon_str + \" griffons\")\n",
    "    print(\"this is equal to\"+\" \"+ crown_str +  ' crowns')\n",
    "    print(\"this is equal to\"+\" \"+ flash_str +' flashes')\n",
    "    print(\"this is equal to\"+\" \"+ len_str + \" lens\")\n",
    "    print(\"this is equal to\" +\" \"+ thrice_len_str + \" thrice lens\")\n",
    "    print(\"this is equal to\" +\" \"+ half_len_str + \" half-lens\")\n",
    "    print(\"this is equal to\" +\" \"+ quarter_len_str +  \" quarter-lens\")\n",
    "    "
   ]
  },
  {
   "cell_type": "code",
   "execution_count": 34,
   "metadata": {},
   "outputs": [
    {
     "name": "stdout",
     "output_type": "stream",
     "text": [
      "this is equal to 84.0 sovereigns\n",
      "this is equal to 336.0 spears\n",
      "this is equal to 2016.0 griffons\n",
      "this is equal to 24192.0 crowns\n",
      "this is equal to 36288.0 flashes\n",
      "this is equal to 193536.0 lens\n",
      "this is equal to 580608.0 thrice lens\n",
      "this is equal to 96768.0 half-lens\n",
      "this is equal to 48384.0 quarter-lens\n"
     ]
    }
   ],
   "source": [
    "sovereign_change(84)"
   ]
  },
  {
   "cell_type": "code",
   "execution_count": 35,
   "metadata": {},
   "outputs": [],
   "source": [
    "def spear_change(spear):\n",
    "    spear = float(spear)\n",
    "    griffon = spear * 6\n",
    "    spear = griffon/6\n",
    "    sovereign = griffon/24\n",
    "    crown = 12 * griffon\n",
    "    flash = 1.5 * crown\n",
    "    len_ = 8 * crown\n",
    "    thrice_len = 3 * len_\n",
    "    half_len = .5 * len_\n",
    "    quarter_len = .25 *len_\n",
    "    \n",
    "    spear_str = str(spear)\n",
    "    sovereign_str = str(sovereign)\n",
    "    crown_str = str(crown)\n",
    "    flash_str = str(flash)\n",
    "    len_str = str(len_)\n",
    "    thrice_len_str = str(thrice_len)\n",
    "    half_len_str = str(half_len)\n",
    "    quarter_len_str = str(quarter_len)\n",
    "    griffon_str = str(griffon)\n",
    "   \n",
    "    \n",
    "    print(\"this is equal to \"+ spear_str +\" spears\")\n",
    "    print(\"this is equal to \"+ sovereign_str + \" sovereigns\")\n",
    "    print(\"this is equal to \"+ griffon_str + \" griffons\")\n",
    "    print(\"this is equal to \"+ crown_str +  ' crowns')\n",
    "    print(\"this is equal to \"+flash_str +' flashes')\n",
    "    print(\"this is equal to \"+len_str + \" lens\")\n",
    "    print(\"this is equal to \" + thrice_len_str + \" thrice lens\")\n",
    "    print(\"this is equal to \" +half_len_str + \" half-lens\")\n",
    "    print(\"this is equal to \" + quarter_len_str +  \" quarter-lens\")\n",
    "    "
   ]
  },
  {
   "cell_type": "code",
   "execution_count": 36,
   "metadata": {},
   "outputs": [
    {
     "name": "stdout",
     "output_type": "stream",
     "text": [
      "this is equal to 789.0 spears\n",
      "this is equal to 197.25 sovereigns\n",
      "this is equal to 4734.0 griffons\n",
      "this is equal to 56808.0 crowns\n",
      "this is equal to 85212.0 flashes\n",
      "this is equal to 454464.0 lens\n",
      "this is equal to 1363392.0 thrice lens\n",
      "this is equal to 227232.0 half-lens\n",
      "this is equal to 113616.0 quarter-lens\n"
     ]
    }
   ],
   "source": [
    "spear_change(789)"
   ]
  },
  {
   "cell_type": "code",
   "execution_count": 44,
   "metadata": {},
   "outputs": [],
   "source": [
    "def flash_change(flash):\n",
    "    flash = float(flash)\n",
    "    griffon = flash/8\n",
    "    spear = griffon/6\n",
    "    sovereign = griffon/24\n",
    "    crown = 12 * griffon\n",
    "    flash = 1.5 * crown\n",
    "    len_ = 8 * crown\n",
    "    thrice_len = 3 * len_\n",
    "    half_len = .5 * len_\n",
    "    quarter_len = .25 *len_\n",
    "    \n",
    "    griffon_str = str(griffon)\n",
    "    spear_str = str(spear)\n",
    "    sovereign_str = str(sovereign)\n",
    "    crown_str = str(crown)\n",
    "    flash_str = str(flash)\n",
    "    len_str = str(len_)\n",
    "    thrice_len_str = str(thrice_len)\n",
    "    half_len_str = str(half_len)\n",
    "    quarter_len_str = str(quarter_len)\n",
    "   \n",
    "    \n",
    "    print(\"this is equal to \"+ spear_str +\" spears\")\n",
    "    print(\"this is equal to \"+ sovereign_str + \" sovereigns\")\n",
    "    print(\"this is equal to \"+ griffon_str + \" griffons\")\n",
    "    print(\"this is equal to \"+ crown_str +  ' crowns')\n",
    "    print(\"this is equal to \"+flash_str +' flashes')\n",
    "    print(\"this is equal to \"+ len_str + \" lens\")\n",
    "    print(\"this is equal to \" +thrice_len_str + \" thrice lens\")\n",
    "    print(\"this is equal to \" + half_len_str + \" half-lens\")\n",
    "    print(\"this is equal to \" + quarter_len_str +  \" quarter-lens\")\n",
    "    "
   ]
  },
  {
   "cell_type": "code",
   "execution_count": 45,
   "metadata": {},
   "outputs": [
    {
     "name": "stdout",
     "output_type": "stream",
     "text": [
      "this is equal to 0.16666666666666666 spears\n",
      "this is equal to 0.041666666666666664 sovereigns\n",
      "this is equal to 1.0 griffons\n",
      "this is equal to 12.0 crowns\n",
      "this is equal to 18.0 flashes\n",
      "this is equal to 96.0 lens\n",
      "this is equal to 288.0 thrice lens\n",
      "this is equal to 48.0 half-lens\n",
      "this is equal to 24.0 quarter-lens\n"
     ]
    }
   ],
   "source": [
    "flash_change(8)"
   ]
  },
  {
   "cell_type": "code",
   "execution_count": 48,
   "metadata": {},
   "outputs": [],
   "source": [
    "def crown_change(crown):\n",
    "    crown = float(crown)\n",
    "    griffon = crown/12\n",
    "    spear = griffon/6\n",
    "    sovereign = griffon/24\n",
    "    crown = 12 * griffon\n",
    "    flash = 1.5 * crown\n",
    "    len_ = 8 * crown\n",
    "    thrice_len = 3 * len_\n",
    "    half_len = .5 * len_\n",
    "    quarter_len = .25 *len_\n",
    "    \n",
    "    griffon_str = str(griffon)\n",
    "    spear_str = str(spear)\n",
    "    sovereign_str = str(sovereign)\n",
    "    crown_str = str(crown)\n",
    "    flash_str = str(flash)\n",
    "    len_str = str(len_)\n",
    "    thrice_len_str = str(thrice_len)\n",
    "    half_len_str = str(half_len)\n",
    "    quarter_len_str = str(quarter_len)\n",
    "   \n",
    "    \n",
    "    print(\"this is equal to \"+ spear_str +\" spears\")\n",
    "    print(\"this is equal to \"+ sovereign_str + \" sovereigns\")\n",
    "    print(\"this is equal to \"+ griffon_str + \" griffons\")\n",
    "    print(\"this is equal to \"+ crown_str +  ' crowns')\n",
    "    print(\"this is equal to \"+flash_str +' flashes')\n",
    "    print(\"this is equal to \"+ len_str + \" lens\")\n",
    "    print(\"this is equal to \" +thrice_len_str + \" thrice lens\")\n",
    "    print(\"this is equal to \" + half_len_str + \" half-lens\")\n",
    "    print(\"this is equal to \" + quarter_len_str +  \" quarter-lens\")\n",
    "    "
   ]
  },
  {
   "cell_type": "code",
   "execution_count": 49,
   "metadata": {},
   "outputs": [
    {
     "name": "stdout",
     "output_type": "stream",
     "text": [
      "this is equal to 0.3333333333333333 spears\n",
      "this is equal to 0.08333333333333333 sovereigns\n",
      "this is equal to 2.0 griffons\n",
      "this is equal to 24.0 crowns\n",
      "this is equal to 36.0 flashes\n",
      "this is equal to 192.0 lens\n",
      "this is equal to 576.0 thrice lens\n",
      "this is equal to 96.0 half-lens\n",
      "this is equal to 48.0 quarter-lens\n"
     ]
    }
   ],
   "source": [
    "crown_change(24)"
   ]
  },
  {
   "cell_type": "code",
   "execution_count": 50,
   "metadata": {},
   "outputs": [],
   "source": [
    "def thrice_len_change(thrice_len):\n",
    "    thrice_len = float(thrice_len)\n",
    "    \n",
    "    \n",
    "    griffon = thrice_len/32\n",
    "    spear = griffon/6\n",
    "    sovereign = griffon/24\n",
    "    crown = 12 * griffon\n",
    "    flash = 1.5 * crown\n",
    "    len_ = 8 * crown\n",
    "    thrice_len = 3 * len_\n",
    "    half_len = .5 * len_\n",
    "    quarter_len = .25 *len_\n",
    "    \n",
    "    griffon_str = str(griffon)\n",
    "    spear_str = str(spear)\n",
    "    sovereign_str = str(sovereign)\n",
    "    crown_str = str(crown)\n",
    "    flash_str = str(flash)\n",
    "    len_str = str(len_)\n",
    "    thrice_len_str = str(thrice_len)\n",
    "    half_len_str = str(half_len)\n",
    "    quarter_len_str = str(quarter_len)\n",
    "   \n",
    "    \n",
    "    print(\"this is equal to \"+ spear_str +\" spears\")\n",
    "    print(\"this is equal to \"+ sovereign_str + \" sovereigns\")\n",
    "    print(\"this is equal to \"+ griffon_str + \" griffons\")\n",
    "    print(\"this is equal to \"+ crown_str +  ' crowns')\n",
    "    print(\"this is equal to \"+flash_str +' flashes')\n",
    "    print(\"this is equal to \"+ len_str + \" lens\")\n",
    "    print(\"this is equal to \" +thrice_len_str + \" thrice lens\")\n",
    "    print(\"this is equal to \" + half_len_str + \" half-lens\")\n",
    "    print(\"this is equal to \" + quarter_len_str +  \" quarter-lens\")\n",
    "    "
   ]
  },
  {
   "cell_type": "code",
   "execution_count": 51,
   "metadata": {},
   "outputs": [
    {
     "name": "stdout",
     "output_type": "stream",
     "text": [
      "this is equal to 0.5 spears\n",
      "this is equal to 0.125 sovereigns\n",
      "this is equal to 3.0 griffons\n",
      "this is equal to 36.0 crowns\n",
      "this is equal to 54.0 flashes\n",
      "this is equal to 288.0 lens\n",
      "this is equal to 864.0 thrice lens\n",
      "this is equal to 144.0 half-lens\n",
      "this is equal to 72.0 quarter-lens\n"
     ]
    }
   ],
   "source": [
    "thrice_len_change(96)"
   ]
  },
  {
   "cell_type": "code",
   "execution_count": 52,
   "metadata": {},
   "outputs": [],
   "source": [
    "def len_change(len_):\n",
    "    len_ = float(len_)\n",
    "    \n",
    "    \n",
    "    griffon = len_/96\n",
    "    spear = griffon/6\n",
    "    sovereign = griffon/24\n",
    "    crown = 12 * griffon\n",
    "    flash = 1.5 * crown\n",
    "    len_ = 8 * crown\n",
    "    thrice_len = 3 * len_\n",
    "    half_len = .5 * len_\n",
    "    quarter_len = .25 *len_\n",
    "    \n",
    "    griffon_str = str(griffon)\n",
    "    spear_str = str(spear)\n",
    "    sovereign_str = str(sovereign)\n",
    "    crown_str = str(crown)\n",
    "    flash_str = str(flash)\n",
    "    len_str = str(len_)\n",
    "    thrice_len_str = str(thrice_len)\n",
    "    half_len_str = str(half_len)\n",
    "    quarter_len_str = str(quarter_len)\n",
    "   \n",
    "    \n",
    "    print(\"this is equal to \"+ spear_str +\" spears\")\n",
    "    print(\"this is equal to \"+ sovereign_str + \" sovereigns\")\n",
    "    print(\"this is equal to \"+ griffon_str + \" griffons\")\n",
    "    print(\"this is equal to \"+ crown_str +  ' crowns')\n",
    "    print(\"this is equal to \"+flash_str +' flashes')\n",
    "    print(\"this is equal to \"+ len_str + \" lens\")\n",
    "    print(\"this is equal to \" +thrice_len_str + \" thrice lens\")\n",
    "    print(\"this is equal to \" + half_len_str + \" half-lens\")\n",
    "    print(\"this is equal to \" + quarter_len_str +  \" quarter-lens\")\n",
    "    "
   ]
  },
  {
   "cell_type": "code",
   "execution_count": 53,
   "metadata": {},
   "outputs": [
    {
     "name": "stdout",
     "output_type": "stream",
     "text": [
      "this is equal to 0.6666666666666666 spears\n",
      "this is equal to 0.16666666666666666 sovereigns\n",
      "this is equal to 4.0 griffons\n",
      "this is equal to 48.0 crowns\n",
      "this is equal to 72.0 flashes\n",
      "this is equal to 384.0 lens\n",
      "this is equal to 1152.0 thrice lens\n",
      "this is equal to 192.0 half-lens\n",
      "this is equal to 96.0 quarter-lens\n"
     ]
    }
   ],
   "source": [
    "len_change(384)"
   ]
  },
  {
   "cell_type": "code",
   "execution_count": 54,
   "metadata": {},
   "outputs": [],
   "source": [
    "def half_len_change(half_len):\n",
    "    half_len = float(half_len)\n",
    "    \n",
    "    \n",
    "    griffon = half_len/192\n",
    "    spear = griffon/6\n",
    "    sovereign = griffon/24\n",
    "    crown = 12 * griffon\n",
    "    flash = 1.5 * crown\n",
    "    len_ = 8 * crown\n",
    "    thrice_len = 3 * len_\n",
    "    half_len = .5 * len_\n",
    "    quarter_len = .25 *len_\n",
    "    \n",
    "    griffon_str = str(griffon)\n",
    "    spear_str = str(spear)\n",
    "    sovereign_str = str(sovereign)\n",
    "    crown_str = str(crown)\n",
    "    flash_str = str(flash)\n",
    "    len_str = str(len_)\n",
    "    thrice_len_str = str(thrice_len)\n",
    "    half_len_str = str(half_len)\n",
    "    quarter_len_str = str(quarter_len)\n",
    "   \n",
    "    \n",
    "    print(\"this is equal to \"+ spear_str +\" spears\")\n",
    "    print(\"this is equal to \"+ sovereign_str + \" sovereigns\")\n",
    "    print(\"this is equal to \"+ griffon_str + \" griffons\")\n",
    "    print(\"this is equal to \"+ crown_str +  ' crowns')\n",
    "    print(\"this is equal to \"+flash_str +' flashes')\n",
    "    print(\"this is equal to \"+ len_str + \" lens\")\n",
    "    print(\"this is equal to \" +thrice_len_str + \" thrice lens\")\n",
    "    print(\"this is equal to \" + half_len_str + \" half-lens\")\n",
    "    print(\"this is equal to \" + quarter_len_str +  \" quarter-lens\")\n",
    "    "
   ]
  },
  {
   "cell_type": "code",
   "execution_count": 55,
   "metadata": {},
   "outputs": [
    {
     "name": "stdout",
     "output_type": "stream",
     "text": [
      "this is equal to 0.5 spears\n",
      "this is equal to 0.125 sovereigns\n",
      "this is equal to 3.0 griffons\n",
      "this is equal to 36.0 crowns\n",
      "this is equal to 54.0 flashes\n",
      "this is equal to 288.0 lens\n",
      "this is equal to 864.0 thrice lens\n",
      "this is equal to 144.0 half-lens\n",
      "this is equal to 72.0 quarter-lens\n"
     ]
    }
   ],
   "source": [
    "half_len_change(576)"
   ]
  },
  {
   "cell_type": "code",
   "execution_count": 56,
   "metadata": {},
   "outputs": [],
   "source": [
    "def quarter_len_change(quarter_len):\n",
    "    quarter_len = float(quarter_len)\n",
    "    \n",
    "    griffon = quarter_len/384\n",
    "    spear = griffon/6\n",
    "    sovereign = griffon/24\n",
    "    crown = 12 * griffon\n",
    "    flash = 1.5 * crown\n",
    "    len_ = 8 * crown\n",
    "    thrice_len = 3 * len_\n",
    "    half_len = .5 * len_\n",
    "    quarter_len = .25 *len_\n",
    "    \n",
    "    griffon_str = str(griffon)\n",
    "    spear_str = str(spear)\n",
    "    sovereign_str = str(sovereign)\n",
    "    crown_str = str(crown)\n",
    "    flash_str = str(flash)\n",
    "    len_str = str(len_)\n",
    "    thrice_len_str = str(thrice_len)\n",
    "    half_len_str = str(half_len)\n",
    "    quarter_len_str = str(quarter_len)\n",
    "   \n",
    "    \n",
    "    print(\"this is equal to \"+ spear_str +\" spears\")\n",
    "    print(\"this is equal to \"+ sovereign_str + \" sovereigns\")\n",
    "    print(\"this is equal to \"+ griffon_str + \" griffons\")\n",
    "    print(\"this is equal to \"+ crown_str +  ' crowns')\n",
    "    print(\"this is equal to \"+flash_str +' flashes')\n",
    "    print(\"this is equal to \"+ len_str + \" lens\")\n",
    "    print(\"this is equal to \" +thrice_len_str + \" thrice lens\")\n",
    "    print(\"this is equal to \" + half_len_str + \" half-lens\")\n",
    "    print(\"this is equal to \" + quarter_len_str +  \" quarter-lens\")\n",
    "    "
   ]
  },
  {
   "cell_type": "code",
   "execution_count": 57,
   "metadata": {},
   "outputs": [
    {
     "name": "stdout",
     "output_type": "stream",
     "text": [
      "this is equal to 1.6666666666666667 spears\n",
      "this is equal to 0.4166666666666667 sovereigns\n",
      "this is equal to 10.0 griffons\n",
      "this is equal to 120.0 crowns\n",
      "this is equal to 180.0 flashes\n",
      "this is equal to 960.0 lens\n",
      "this is equal to 2880.0 thrice lens\n",
      "this is equal to 480.0 half-lens\n",
      "this is equal to 240.0 quarter-lens\n"
     ]
    }
   ],
   "source": [
    "quarter_len_change(3840)"
   ]
  }
 ],
 "metadata": {
  "kernelspec": {
   "display_name": "Python 3",
   "language": "python",
   "name": "python3"
  },
  "language_info": {
   "codemirror_mode": {
    "name": "ipython",
    "version": 3
   },
   "file_extension": ".py",
   "mimetype": "text/x-python",
   "name": "python",
   "nbconvert_exporter": "python",
   "pygments_lexer": "ipython3",
   "version": "3.7.3"
  }
 },
 "nbformat": 4,
 "nbformat_minor": 2
}
